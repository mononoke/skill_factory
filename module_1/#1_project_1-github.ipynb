{
 "cells": [
  {
   "cell_type": "code",
   "execution_count": 19,
   "metadata": {
    "_cell_guid": "b1076dfc-b9ad-4769-8c92-a6c4dae69d19",
    "_uuid": "8f2839f25d086af736a60e9eeb907d3b93b6e0e5",
    "colab": {},
    "colab_type": "code",
    "id": "U2D2gTdJVp90"
   },
   "outputs": [],
   "source": [
    "import numpy as np\n",
    "import pandas as pd\n",
    "from itertools import combinations\n",
    "import collections"
   ]
  },
  {
   "cell_type": "code",
   "execution_count": 20,
   "metadata": {
    "_cell_guid": "79c7e3d0-c299-4dcb-8224-4455121ee9b0",
    "_uuid": "d629ff2d2480ee46fbb7e2d37f6b5fab8052498a",
    "colab": {},
    "colab_type": "code",
    "id": "oyGfxL3eVp9-"
   },
   "outputs": [
    {
     "data": {
      "text/html": [
       "<div>\n",
       "<style scoped>\n",
       "    .dataframe tbody tr th:only-of-type {\n",
       "        vertical-align: middle;\n",
       "    }\n",
       "\n",
       "    .dataframe tbody tr th {\n",
       "        vertical-align: top;\n",
       "    }\n",
       "\n",
       "    .dataframe thead th {\n",
       "        text-align: right;\n",
       "    }\n",
       "</style>\n",
       "<table border=\"1\" class=\"dataframe\">\n",
       "  <thead>\n",
       "    <tr style=\"text-align: right;\">\n",
       "      <th></th>\n",
       "      <th>imdb_id</th>\n",
       "      <th>budget</th>\n",
       "      <th>revenue</th>\n",
       "      <th>original_title</th>\n",
       "      <th>cast</th>\n",
       "      <th>director</th>\n",
       "      <th>tagline</th>\n",
       "      <th>overview</th>\n",
       "      <th>runtime</th>\n",
       "      <th>genres</th>\n",
       "      <th>production_companies</th>\n",
       "      <th>release_date</th>\n",
       "      <th>vote_average</th>\n",
       "      <th>release_year</th>\n",
       "    </tr>\n",
       "  </thead>\n",
       "  <tbody>\n",
       "    <tr>\n",
       "      <th>758</th>\n",
       "      <td>tt1568911</td>\n",
       "      <td>66000000</td>\n",
       "      <td>177584879</td>\n",
       "      <td>War Horse</td>\n",
       "      <td>Tom Hiddleston|Benedict Cumberbatch|Toby Kebbe...</td>\n",
       "      <td>Steven Spielberg</td>\n",
       "      <td>Separated by War. Tested by Battle. Bound by F...</td>\n",
       "      <td>Follows a young man named Albert and his horse...</td>\n",
       "      <td>146</td>\n",
       "      <td>Drama|War</td>\n",
       "      <td>DreamWorks SKG|Amblin Entertainment|Reliance E...</td>\n",
       "      <td>12/25/2011</td>\n",
       "      <td>6.9</td>\n",
       "      <td>2011</td>\n",
       "    </tr>\n",
       "    <tr>\n",
       "      <th>731</th>\n",
       "      <td>tt1570728</td>\n",
       "      <td>50000000</td>\n",
       "      <td>142851197</td>\n",
       "      <td>Crazy, Stupid, Love.</td>\n",
       "      <td>Steve Carell|Julianne Moore|Ryan Gosling|Emma ...</td>\n",
       "      <td>Glenn Ficarra|John Requa</td>\n",
       "      <td>This Is Stupid</td>\n",
       "      <td>Cal Weaver is living the American dream. He ha...</td>\n",
       "      <td>118</td>\n",
       "      <td>Comedy|Drama|Romance</td>\n",
       "      <td>Warner Bros.</td>\n",
       "      <td>7/29/2011</td>\n",
       "      <td>6.9</td>\n",
       "      <td>2011</td>\n",
       "    </tr>\n",
       "    <tr>\n",
       "      <th>1835</th>\n",
       "      <td>tt0146984</td>\n",
       "      <td>80000000</td>\n",
       "      <td>39459427</td>\n",
       "      <td>The Legend of Bagger Vance</td>\n",
       "      <td>Matt Damon|Bruce McGill|Charlize Theron|Will S...</td>\n",
       "      <td>Robert Redford</td>\n",
       "      <td>It Was Just A Moment Ago.</td>\n",
       "      <td>World War I has left golfer Rannulph Junuh a p...</td>\n",
       "      <td>126</td>\n",
       "      <td>Fantasy|Drama</td>\n",
       "      <td>DreamWorks SKG|Twentieth Century Fox Film Corp...</td>\n",
       "      <td>11/2/2000</td>\n",
       "      <td>6.2</td>\n",
       "      <td>2000</td>\n",
       "    </tr>\n",
       "    <tr>\n",
       "      <th>1616</th>\n",
       "      <td>tt0318974</td>\n",
       "      <td>145000000</td>\n",
       "      <td>25819961</td>\n",
       "      <td>The Alamo</td>\n",
       "      <td>Dennis Quaid|Billy Bob Thornton|Jason Patric|P...</td>\n",
       "      <td>John Lee Hancock</td>\n",
       "      <td>You will never forget</td>\n",
       "      <td>Based on the 1836 standoff between a group of ...</td>\n",
       "      <td>137</td>\n",
       "      <td>Western|History|War</td>\n",
       "      <td>Imagine Entertainment|Touchstone Pictures</td>\n",
       "      <td>4/7/2004</td>\n",
       "      <td>5.9</td>\n",
       "      <td>2004</td>\n",
       "    </tr>\n",
       "    <tr>\n",
       "      <th>990</th>\n",
       "      <td>tt1409024</td>\n",
       "      <td>225000000</td>\n",
       "      <td>624026776</td>\n",
       "      <td>Men in Black 3</td>\n",
       "      <td>Will Smith|Tommy Lee Jones|Josh Brolin|Michael...</td>\n",
       "      <td>Barry Sonnenfeld</td>\n",
       "      <td>They are back... in time.</td>\n",
       "      <td>Agents J (Will Smith) and K (Tommy Lee Jones) ...</td>\n",
       "      <td>106</td>\n",
       "      <td>Action|Comedy|Science Fiction</td>\n",
       "      <td>Amblin Entertainment|Media Magik Entertainment...</td>\n",
       "      <td>5/23/2012</td>\n",
       "      <td>6.1</td>\n",
       "      <td>2012</td>\n",
       "    </tr>\n",
       "  </tbody>\n",
       "</table>\n",
       "</div>"
      ],
      "text/plain": [
       "        imdb_id     budget    revenue              original_title  \\\n",
       "758   tt1568911   66000000  177584879                   War Horse   \n",
       "731   tt1570728   50000000  142851197        Crazy, Stupid, Love.   \n",
       "1835  tt0146984   80000000   39459427  The Legend of Bagger Vance   \n",
       "1616  tt0318974  145000000   25819961                   The Alamo   \n",
       "990   tt1409024  225000000  624026776              Men in Black 3   \n",
       "\n",
       "                                                   cast  \\\n",
       "758   Tom Hiddleston|Benedict Cumberbatch|Toby Kebbe...   \n",
       "731   Steve Carell|Julianne Moore|Ryan Gosling|Emma ...   \n",
       "1835  Matt Damon|Bruce McGill|Charlize Theron|Will S...   \n",
       "1616  Dennis Quaid|Billy Bob Thornton|Jason Patric|P...   \n",
       "990   Will Smith|Tommy Lee Jones|Josh Brolin|Michael...   \n",
       "\n",
       "                      director  \\\n",
       "758           Steven Spielberg   \n",
       "731   Glenn Ficarra|John Requa   \n",
       "1835            Robert Redford   \n",
       "1616          John Lee Hancock   \n",
       "990           Barry Sonnenfeld   \n",
       "\n",
       "                                                tagline  \\\n",
       "758   Separated by War. Tested by Battle. Bound by F...   \n",
       "731                                      This Is Stupid   \n",
       "1835                          It Was Just A Moment Ago.   \n",
       "1616                              You will never forget   \n",
       "990                           They are back... in time.   \n",
       "\n",
       "                                               overview  runtime  \\\n",
       "758   Follows a young man named Albert and his horse...      146   \n",
       "731   Cal Weaver is living the American dream. He ha...      118   \n",
       "1835  World War I has left golfer Rannulph Junuh a p...      126   \n",
       "1616  Based on the 1836 standoff between a group of ...      137   \n",
       "990   Agents J (Will Smith) and K (Tommy Lee Jones) ...      106   \n",
       "\n",
       "                             genres  \\\n",
       "758                       Drama|War   \n",
       "731            Comedy|Drama|Romance   \n",
       "1835                  Fantasy|Drama   \n",
       "1616            Western|History|War   \n",
       "990   Action|Comedy|Science Fiction   \n",
       "\n",
       "                                   production_companies release_date  \\\n",
       "758   DreamWorks SKG|Amblin Entertainment|Reliance E...   12/25/2011   \n",
       "731                                        Warner Bros.    7/29/2011   \n",
       "1835  DreamWorks SKG|Twentieth Century Fox Film Corp...    11/2/2000   \n",
       "1616          Imagine Entertainment|Touchstone Pictures     4/7/2004   \n",
       "990   Amblin Entertainment|Media Magik Entertainment...    5/23/2012   \n",
       "\n",
       "      vote_average  release_year  \n",
       "758            6.9          2011  \n",
       "731            6.9          2011  \n",
       "1835           6.2          2000  \n",
       "1616           5.9          2004  \n",
       "990            6.1          2012  "
      ]
     },
     "execution_count": 20,
     "metadata": {},
     "output_type": "execute_result"
    }
   ],
   "source": [
    "data = pd.read_csv('movie_bd_v5.csv')\n",
    "data.sample(5)"
   ]
  },
  {
   "cell_type": "code",
   "execution_count": 21,
   "metadata": {
    "colab": {},
    "colab_type": "code",
    "id": "CoYUnagMVp-C"
   },
   "outputs": [
    {
     "data": {
      "text/html": [
       "<div>\n",
       "<style scoped>\n",
       "    .dataframe tbody tr th:only-of-type {\n",
       "        vertical-align: middle;\n",
       "    }\n",
       "\n",
       "    .dataframe tbody tr th {\n",
       "        vertical-align: top;\n",
       "    }\n",
       "\n",
       "    .dataframe thead th {\n",
       "        text-align: right;\n",
       "    }\n",
       "</style>\n",
       "<table border=\"1\" class=\"dataframe\">\n",
       "  <thead>\n",
       "    <tr style=\"text-align: right;\">\n",
       "      <th></th>\n",
       "      <th>budget</th>\n",
       "      <th>revenue</th>\n",
       "      <th>runtime</th>\n",
       "      <th>vote_average</th>\n",
       "      <th>release_year</th>\n",
       "    </tr>\n",
       "  </thead>\n",
       "  <tbody>\n",
       "    <tr>\n",
       "      <th>count</th>\n",
       "      <td>1.889000e+03</td>\n",
       "      <td>1.889000e+03</td>\n",
       "      <td>1889.000000</td>\n",
       "      <td>1889.000000</td>\n",
       "      <td>1889.000000</td>\n",
       "    </tr>\n",
       "    <tr>\n",
       "      <th>mean</th>\n",
       "      <td>5.431083e+07</td>\n",
       "      <td>1.553653e+08</td>\n",
       "      <td>109.658549</td>\n",
       "      <td>6.140762</td>\n",
       "      <td>2007.860773</td>\n",
       "    </tr>\n",
       "    <tr>\n",
       "      <th>std</th>\n",
       "      <td>4.858721e+07</td>\n",
       "      <td>2.146698e+08</td>\n",
       "      <td>18.017041</td>\n",
       "      <td>0.764763</td>\n",
       "      <td>4.468841</td>\n",
       "    </tr>\n",
       "    <tr>\n",
       "      <th>min</th>\n",
       "      <td>5.000000e+06</td>\n",
       "      <td>2.033165e+06</td>\n",
       "      <td>63.000000</td>\n",
       "      <td>3.300000</td>\n",
       "      <td>2000.000000</td>\n",
       "    </tr>\n",
       "    <tr>\n",
       "      <th>25%</th>\n",
       "      <td>2.000000e+07</td>\n",
       "      <td>3.456058e+07</td>\n",
       "      <td>97.000000</td>\n",
       "      <td>5.600000</td>\n",
       "      <td>2004.000000</td>\n",
       "    </tr>\n",
       "    <tr>\n",
       "      <th>50%</th>\n",
       "      <td>3.800000e+07</td>\n",
       "      <td>8.361541e+07</td>\n",
       "      <td>107.000000</td>\n",
       "      <td>6.100000</td>\n",
       "      <td>2008.000000</td>\n",
       "    </tr>\n",
       "    <tr>\n",
       "      <th>75%</th>\n",
       "      <td>7.200000e+07</td>\n",
       "      <td>1.782626e+08</td>\n",
       "      <td>120.000000</td>\n",
       "      <td>6.600000</td>\n",
       "      <td>2012.000000</td>\n",
       "    </tr>\n",
       "    <tr>\n",
       "      <th>max</th>\n",
       "      <td>3.800000e+08</td>\n",
       "      <td>2.781506e+09</td>\n",
       "      <td>214.000000</td>\n",
       "      <td>8.100000</td>\n",
       "      <td>2015.000000</td>\n",
       "    </tr>\n",
       "  </tbody>\n",
       "</table>\n",
       "</div>"
      ],
      "text/plain": [
       "             budget       revenue      runtime  vote_average  release_year\n",
       "count  1.889000e+03  1.889000e+03  1889.000000   1889.000000   1889.000000\n",
       "mean   5.431083e+07  1.553653e+08   109.658549      6.140762   2007.860773\n",
       "std    4.858721e+07  2.146698e+08    18.017041      0.764763      4.468841\n",
       "min    5.000000e+06  2.033165e+06    63.000000      3.300000   2000.000000\n",
       "25%    2.000000e+07  3.456058e+07    97.000000      5.600000   2004.000000\n",
       "50%    3.800000e+07  8.361541e+07   107.000000      6.100000   2008.000000\n",
       "75%    7.200000e+07  1.782626e+08   120.000000      6.600000   2012.000000\n",
       "max    3.800000e+08  2.781506e+09   214.000000      8.100000   2015.000000"
      ]
     },
     "execution_count": 21,
     "metadata": {},
     "output_type": "execute_result"
    }
   ],
   "source": [
    "data.describe()"
   ]
  },
  {
   "cell_type": "markdown",
   "metadata": {
    "colab_type": "text",
    "id": "DTIt7ezGVp-G"
   },
   "source": [
    "# Предобработка"
   ]
  },
  {
   "cell_type": "code",
   "execution_count": 22,
   "metadata": {
    "colab": {},
    "colab_type": "code",
    "id": "jNb40DwKVp-H"
   },
   "outputs": [],
   "source": [
    "answers = {} # создадим словарь для ответов\n",
    "\n",
    "# тут другие ваши предобработки колонок например:\n",
    "\n",
    "#the time given in the dataset is in string format.\n",
    "#So we need to change this in datetime format\n",
    "\n",
    "\n",
    "# Создадим новую колонку в датафрейме == Прибыль\n",
    "# Прибыль = сборы - бюджет (profit = revenue - budget).\n",
    "data['profit'] = data.revenue - data.budget\n",
    "\n",
    "\n",
    "# колонку Жанры приведем к списку и сохраним в новую колонку\n",
    "data['genres_array'] = data.genres.str.split('|')\n",
    "\n",
    "\n",
    "# колонку Режиссер приведем к списку и сохраним в новую колонку\n",
    "data['director_array'] = data.director.str.split('|')\n",
    "\n",
    "\n",
    "# колонку Режиссер приведем к списку и сохраним в новую колонку\n",
    "data['cast_array'] = data.cast.str.split('|')\n",
    "\n",
    "\n",
    "# колонку Месяц выпуска фильма\n",
    "release_array = data.release_date.str.split('/')\n",
    "data['release_month'] = release_array.apply(lambda x: x[:1][0])\n",
    "\n",
    "\n",
    "data['production_companies_array'] = data.production_companies.str.split('|')\n",
    "\n",
    "\n",
    "\"\"\" Т.к. варианты ответов включают в себя название и идентификатор фильма,\n",
    "то объявим функцию для получения правильного ответа\"\"\"\n",
    "def get_result_string(film):\n",
    "    film_title = film['original_title']\n",
    "    film_id = film['imdb_id']\n",
    "    return f'{film_title} ({film_id})'"
   ]
  },
  {
   "cell_type": "markdown",
   "metadata": {
    "colab_type": "text",
    "id": "YxZaH-nPVp-L"
   },
   "source": [
    "# 1. У какого фильма из списка самый большой бюджет?"
   ]
  },
  {
   "cell_type": "markdown",
   "metadata": {
    "colab_type": "text",
    "id": "Nd-G5gX6Vp-M"
   },
   "source": [
    "Использовать варианты ответов в коде решения запрещено.    \n",
    "Вы думаете и в жизни у вас будут варианты ответов?)"
   ]
  },
  {
   "cell_type": "code",
   "execution_count": 23,
   "metadata": {
    "colab": {},
    "colab_type": "code",
    "id": "uVnXAY5RVp-O"
   },
   "outputs": [],
   "source": [
    "# в словарь вставляем номер вопроса и ваш ответ на него\n",
    "# Пример: \n",
    "answers['1'] = '2. Spider-Man 3 (tt0413300)'"
   ]
  },
  {
   "cell_type": "code",
   "execution_count": 24,
   "metadata": {
    "colab": {},
    "colab_type": "code",
    "id": "dZwb3m28Vp-S"
   },
   "outputs": [
    {
     "data": {
      "text/plain": [
       "'Pirates of the Caribbean: On Stranger Tides (tt1298650)'"
      ]
     },
     "metadata": {},
     "output_type": "display_data"
    }
   ],
   "source": [
    "# тут пишем ваш код для решения данного вопроса:\n",
    "budget_max = data[data.budget == data.budget.max()].iloc[0]\n",
    "\n",
    "answers['1'] = get_result_string(budget_max)\n",
    "display(answers['1']) # +"
   ]
  },
  {
   "cell_type": "markdown",
   "metadata": {
    "colab_type": "text",
    "id": "K7L3nbRXVp-X"
   },
   "source": [
    "ВАРИАНТ 2"
   ]
  },
  {
   "cell_type": "code",
   "execution_count": 25,
   "metadata": {
    "colab": {},
    "colab_type": "code",
    "id": "OGaoQI7rVp-X"
   },
   "outputs": [
    {
     "data": {
      "text/plain": [
       "'Pirates of the Caribbean: On Stranger Tides (tt1298650)'"
      ]
     },
     "metadata": {},
     "output_type": "display_data"
    }
   ],
   "source": [
    "budget_max = data.sort_values(by='budget', ascending=False).iloc[0]\n",
    "\n",
    "answer1 = get_result_string(budget_max)\n",
    "display(answer1) # +"
   ]
  },
  {
   "cell_type": "markdown",
   "metadata": {
    "colab_type": "text",
    "id": "FNRbbI3vVp-c"
   },
   "source": [
    "# 2. Какой из фильмов самый длительный (в минутах)?"
   ]
  },
  {
   "cell_type": "code",
   "execution_count": 26,
   "metadata": {
    "colab": {},
    "colab_type": "code",
    "id": "vHAoEXNTVp-d"
   },
   "outputs": [],
   "source": [
    "# думаю логику работы с этим словарем вы уже поняли, \n",
    "# по этому не буду больше его дублировать"
   ]
  },
  {
   "cell_type": "code",
   "execution_count": 27,
   "metadata": {
    "colab": {},
    "colab_type": "code",
    "id": "ot-VX2XrVp-g"
   },
   "outputs": [
    {
     "data": {
      "text/plain": [
       "'Gods and Generals (tt0279111)'"
      ]
     },
     "metadata": {},
     "output_type": "display_data"
    }
   ],
   "source": [
    "runtime_max = data[data.runtime == data.runtime.max()].iloc[0]\n",
    "\n",
    "answers['2'] = get_result_string(runtime_max)\n",
    "display(answers['2']) # +"
   ]
  },
  {
   "cell_type": "markdown",
   "metadata": {
    "colab_type": "text",
    "id": "bapLlpW8Vp-k"
   },
   "source": [
    "# 3. Какой из фильмов самый короткий (в минутах)?\n",
    "\n",
    "\n",
    "\n"
   ]
  },
  {
   "cell_type": "code",
   "execution_count": 28,
   "metadata": {
    "colab": {},
    "colab_type": "code",
    "id": "YBxaSHuAVp-l"
   },
   "outputs": [
    {
     "data": {
      "text/plain": [
       "'Gods and Generals (tt0279111)'"
      ]
     },
     "metadata": {},
     "output_type": "display_data"
    }
   ],
   "source": [
    "runtime_min = data[data.runtime == data.runtime.min()].iloc[0]\n",
    "\n",
    "answers['3'] = get_result_string(runtime_max)\n",
    "display(answers['3']) # +"
   ]
  },
  {
   "cell_type": "markdown",
   "metadata": {
    "colab_type": "text",
    "id": "TfQbxbfNVp-p"
   },
   "source": [
    "# 4. Какова средняя длительность фильмов?\n"
   ]
  },
  {
   "cell_type": "code",
   "execution_count": 29,
   "metadata": {
    "colab": {},
    "colab_type": "code",
    "id": "5K6dKZYVVp-q"
   },
   "outputs": [
    {
     "data": {
      "text/plain": [
       "110"
      ]
     },
     "metadata": {},
     "output_type": "display_data"
    }
   ],
   "source": [
    "runtime_mean = round(data.runtime.mean())\n",
    "\n",
    "answers['4'] = runtime_mean\n",
    "display(answers['4']) # +"
   ]
  },
  {
   "cell_type": "markdown",
   "metadata": {
    "colab_type": "text",
    "id": "r5TvbnT_Vp-u"
   },
   "source": [
    "# 5. Каково медианное значение длительности фильмов? "
   ]
  },
  {
   "cell_type": "code",
   "execution_count": 30,
   "metadata": {
    "colab": {},
    "colab_type": "code",
    "id": "iBROplKnVp-v"
   },
   "outputs": [
    {
     "data": {
      "text/plain": [
       "107"
      ]
     },
     "metadata": {},
     "output_type": "display_data"
    }
   ],
   "source": [
    "runtime_median = int(data.runtime.median())\n",
    "\n",
    "answers['5'] = runtime_median\n",
    "display(answers['5']) # +"
   ]
  },
  {
   "cell_type": "markdown",
   "metadata": {
    "colab_type": "text",
    "id": "39P-deDSVp-y"
   },
   "source": [
    "# 6. Какой самый прибыльный фильм?\n",
    "#### Внимание! Здесь и далее под «прибылью» или «убытками» понимается разность между сборами и бюджетом фильма. (прибыль = сборы - бюджет) в нашем датасете это будет (profit = revenue - budget) "
   ]
  },
  {
   "cell_type": "code",
   "execution_count": 31,
   "metadata": {
    "colab": {},
    "colab_type": "code",
    "id": "UYZh4T9WVp-y"
   },
   "outputs": [
    {
     "data": {
      "text/plain": [
       "'Avatar (tt0499549)'"
      ]
     },
     "metadata": {},
     "output_type": "display_data"
    }
   ],
   "source": [
    "# лучше код получения столбца profit вынести в Предобработку что в начале\n",
    "profit_max = data[data.profit == data.profit.max()].iloc[0]\n",
    "\n",
    "answers['6'] = get_result_string(profit_max)\n",
    "display(answers['6']) # +"
   ]
  },
  {
   "cell_type": "markdown",
   "metadata": {
    "colab_type": "text",
    "id": "M99JmIX4Vp-2"
   },
   "source": [
    "# 7. Какой фильм самый убыточный? "
   ]
  },
  {
   "cell_type": "code",
   "execution_count": 32,
   "metadata": {
    "colab": {},
    "colab_type": "code",
    "id": "w-D2m4XPVp-3"
   },
   "outputs": [
    {
     "data": {
      "text/plain": [
       "'The Lone Ranger (tt1210819)'"
      ]
     },
     "metadata": {},
     "output_type": "display_data"
    }
   ],
   "source": [
    "profit_min = data[data.profit == data.profit.min()].iloc[0]\n",
    "\n",
    "answers['7'] = get_result_string(profit_min)\n",
    "display(answers['7']) # +"
   ]
  },
  {
   "cell_type": "markdown",
   "metadata": {
    "colab_type": "text",
    "id": "wEOM5ERVVp-6"
   },
   "source": [
    "# 8. У скольких фильмов из датасета объем сборов оказался выше бюджета?"
   ]
  },
  {
   "cell_type": "code",
   "execution_count": 33,
   "metadata": {
    "colab": {},
    "colab_type": "code",
    "id": "y00_7HD6Vp-7"
   },
   "outputs": [
    {
     "data": {
      "text/plain": [
       "1478"
      ]
     },
     "metadata": {},
     "output_type": "display_data"
    }
   ],
   "source": [
    "profitable_films = len(data[data.revenue > data.budget])\n",
    "\n",
    "answers['8'] = profitable_films\n",
    "display(answers['8']) # +"
   ]
  },
  {
   "cell_type": "markdown",
   "metadata": {
    "colab": {},
    "colab_type": "code",
    "id": "Vwx3NrkSVqAl"
   },
   "source": [
    "ВАРИАНТ 2"
   ]
  },
  {
   "cell_type": "code",
   "execution_count": 34,
   "metadata": {
    "colab": {},
    "colab_type": "code",
    "id": "uCfuTkRbVqAg"
   },
   "outputs": [
    {
     "data": {
      "text/plain": [
       "1478"
      ]
     },
     "metadata": {},
     "output_type": "display_data"
    }
   ],
   "source": [
    "answer8 = data[data.revenue > data.budget].shape[0]\n",
    "display(answer8) # +"
   ]
  },
  {
   "cell_type": "markdown",
   "metadata": {
    "colab_type": "text",
    "id": "xhpspA9KVp_A"
   },
   "source": [
    "# 9. Какой фильм оказался самым кассовым в 2008 году?"
   ]
  },
  {
   "cell_type": "code",
   "execution_count": 35,
   "metadata": {
    "colab": {},
    "colab_type": "code",
    "id": "MoUyQr9RVp_B"
   },
   "outputs": [
    {
     "data": {
      "text/plain": [
       "'The Dark Knight (tt0468569)'"
      ]
     },
     "metadata": {},
     "output_type": "display_data"
    }
   ],
   "source": [
    "# Сгруппируем фильмы по году выпуска с указанием максимальных значений сборов\n",
    "grouped_max = data.groupby(['release_year']).revenue.max()\n",
    "\n",
    "\n",
    "# Сохраним максимальный сбор за 2008\n",
    "revenue_max_2008 = grouped_max.loc[2008]\n",
    "\n",
    "\n",
    "film_revenue_max_2008 = data[(data.revenue == revenue_max_2008) & (data.release_year == 2008)].iloc[0]\n",
    "\n",
    "\n",
    "answers['9'] = get_result_string(film_revenue_max_2008)\n",
    "display(answers['9']) # +"
   ]
  },
  {
   "cell_type": "markdown",
   "metadata": {},
   "source": [
    "ВАРИАНТ 2"
   ]
  },
  {
   "cell_type": "code",
   "execution_count": 36,
   "metadata": {},
   "outputs": [
    {
     "data": {
      "text/plain": [
       "'The Dark Knight (tt0468569)'"
      ]
     },
     "metadata": {},
     "output_type": "display_data"
    }
   ],
   "source": [
    "film_revenue_max_2008 = data[data.release_year == 2008].sort_values(by='revenue', ascending=False).iloc[0]\n",
    "\n",
    "answers9 = get_result_string(film_revenue_max_2008)\n",
    "display(answers9) # +"
   ]
  },
  {
   "cell_type": "markdown",
   "metadata": {
    "colab_type": "text",
    "id": "Zi4hDKidVp_F"
   },
   "source": [
    "# 10. Самый убыточный фильм за период с 2012 по 2014 г. (включительно)?\n"
   ]
  },
  {
   "cell_type": "code",
   "execution_count": 37,
   "metadata": {
    "colab": {},
    "colab_type": "code",
    "id": "XqyRmufJVp_F"
   },
   "outputs": [
    {
     "data": {
      "text/plain": [
       "'The Lone Ranger (tt1210819)'"
      ]
     },
     "metadata": {},
     "output_type": "display_data"
    }
   ],
   "source": [
    "film_profit_min = data.query('release_year in [2012, 2013, 2014]').sort_values(by='profit').iloc[0]\n",
    "\n",
    "answers['10'] = get_result_string(film_profit_min)\n",
    "display(answers['10']) # +"
   ]
  },
  {
   "cell_type": "markdown",
   "metadata": {
    "colab_type": "text",
    "id": "EA7Sa9dkVp_I"
   },
   "source": [
    "# 11. Какого жанра фильмов больше всего?"
   ]
  },
  {
   "cell_type": "code",
   "execution_count": 38,
   "metadata": {
    "colab": {},
    "colab_type": "code",
    "id": "zsJAwJ8QVp_J"
   },
   "outputs": [
    {
     "data": {
      "text/plain": [
       "'Drama'"
      ]
     },
     "metadata": {},
     "output_type": "display_data"
    }
   ],
   "source": [
    "'''\n",
    "Не выносим промежуточные датафреймы в предобработку, т.к\n",
    "нагляднее их хранить в конкретной задаче\n",
    "'''\n",
    "\n",
    "\n",
    "# Создадим датафрейм с разложенной колонкой Жанры\n",
    "data_genres= pd.DataFrame()\n",
    "data_genres[['genres_array']] = data[['genres_array']]\n",
    "data_genres = data_genres.explode('genres_array')\n",
    "\n",
    "\n",
    "answers['11'] = data_genres.value_counts().index[0][0]\n",
    "display(answers['11']) # +"
   ]
  },
  {
   "cell_type": "markdown",
   "metadata": {
    "colab_type": "text",
    "id": "Ax6g2C8SVp_M"
   },
   "source": [
    "ВАРИАНТ 2"
   ]
  },
  {
   "cell_type": "code",
   "execution_count": 39,
   "metadata": {
    "colab": {},
    "colab_type": "code",
    "id": "otO3SbrSVp_N"
   },
   "outputs": [
    {
     "data": {
      "text/plain": [
       "'Drama'"
      ]
     },
     "metadata": {},
     "output_type": "display_data"
    }
   ],
   "source": [
    "import operator\n",
    "\n",
    "\n",
    "'''Создадим словарь, в котором будем считать\n",
    "количество вхождений каждого жанра'''\n",
    "genres = {}\n",
    "\n",
    "\n",
    "for index, row in data.iterrows():\n",
    "    for genre in row.genres_array:\n",
    "        genres.setdefault(genre, 0)\n",
    "        genres[genre] += 1\n",
    "\n",
    "\n",
    "answer11 = max(genres.items(), key=operator.itemgetter(1))[0]\n",
    "display(answer11) # +"
   ]
  },
  {
   "cell_type": "markdown",
   "metadata": {
    "colab_type": "text",
    "id": "T9_bPWpkVp_Q"
   },
   "source": [
    "# 12. Фильмы какого жанра чаще всего становятся прибыльными? "
   ]
  },
  {
   "cell_type": "code",
   "execution_count": 40,
   "metadata": {
    "colab": {},
    "colab_type": "code",
    "id": "Tmt8MaK1Vp_R"
   },
   "outputs": [
    {
     "data": {
      "text/plain": [
       "'Drama'"
      ]
     },
     "metadata": {},
     "output_type": "display_data"
    }
   ],
   "source": [
    "# Создадим датафрейм с разложенной колонкой Жанры с указанием прибыли прибылью\n",
    "genres_profit= pd.DataFrame()\n",
    "genres_profit[['genres_array', 'profit']] = data[['genres_array', 'profit']]\n",
    "genres_profit = genres_profit.explode('genres_array')\n",
    "\n",
    "\n",
    "answers['12'] = genres_profit[genres_profit.profit > 0]['genres_array'].value_counts().index[0]\n",
    "display(answers['12']) # +"
   ]
  },
  {
   "cell_type": "markdown",
   "metadata": {
    "colab_type": "text",
    "id": "0F23bgsDVp_U"
   },
   "source": [
    "# 13. У какого режиссера самые большие суммарные кассовые сборы?"
   ]
  },
  {
   "cell_type": "code",
   "execution_count": 41,
   "metadata": {
    "colab": {},
    "colab_type": "code",
    "id": "K6Z3J8ygVp_X"
   },
   "outputs": [
    {
     "data": {
      "text/plain": [
       "'Peter Jackson'"
      ]
     },
     "metadata": {},
     "output_type": "display_data"
    }
   ],
   "source": [
    "# Создадим датафрейм с разложенной колонкой Режиссеры с указанием сборов\n",
    "directors_revenue = pd.DataFrame()\n",
    "directors_revenue[['director','revenue']] = data[['director_array','revenue']]\n",
    "directors_revenue = directors_revenue.explode('director')\n",
    "\n",
    "\n",
    "answers['13'] = directors_revenue.groupby(['director'])['revenue'].sum().sort_values(ascending=False).index[0]\n",
    "display(answers['13']) # +"
   ]
  },
  {
   "cell_type": "markdown",
   "metadata": {
    "colab_type": "text",
    "id": "PsYC9FgRVp_a"
   },
   "source": [
    "# 14. Какой режисер снял больше всего фильмов в стиле Action?"
   ]
  },
  {
   "cell_type": "code",
   "execution_count": 42,
   "metadata": {
    "colab": {},
    "colab_type": "code",
    "id": "wd2M-wHeVp_b"
   },
   "outputs": [
    {
     "data": {
      "text/plain": [
       "'Robert Rodriguez'"
      ]
     },
     "metadata": {},
     "output_type": "display_data"
    }
   ],
   "source": [
    "# Оставим только фильмы в жанре Action\n",
    "action_films = data[data.genres.str.contains('Action')]\n",
    "\n",
    "\n",
    "# Создадим новый датафрейм с разложенной колонкой Режиссеры\n",
    "directors = pd.DataFrame()\n",
    "directors[['director']] = action_films[['director_array']]\n",
    "directors = directors.explode('director')\n",
    "\n",
    "\n",
    "# Выводим количество фильмов для каждого режиссера\n",
    "directors_count = directors.groupby(['director']).agg({'director': 'count'})\n",
    "\n",
    "\n",
    "result = directors_count[directors_count.director == directors_count.director.max()].director.index[0]\n",
    "\n",
    "\n",
    "answers['14'] = result\n",
    "display(answers['14']) # +"
   ]
  },
  {
   "cell_type": "markdown",
   "metadata": {
    "colab_type": "text",
    "id": "PQ0KciD7Vp_f"
   },
   "source": [
    "# 15. Фильмы с каким актером принесли самые высокие кассовые сборы в 2012 году? "
   ]
  },
  {
   "cell_type": "code",
   "execution_count": 43,
   "metadata": {
    "colab": {},
    "colab_type": "code",
    "id": "aga62oeKVp_g"
   },
   "outputs": [
    {
     "data": {
      "text/plain": [
       "'Chris Hemsworth'"
      ]
     },
     "metadata": {},
     "output_type": "display_data"
    }
   ],
   "source": [
    "# Отсортируем только фильмы 2012 года\n",
    "films_2012 = data[data.release_year == 2012]\n",
    "\n",
    "\n",
    "# Создадим новый датафрейм с разложенной колонкой Актеры с указанием сборов\n",
    "cast_revenue = pd.DataFrame()\n",
    "cast_revenue[['cast','revenue']] = films_2012[['cast_array','revenue']]\n",
    "cast_revenue = cast_revenue.explode('cast')\n",
    "\n",
    "\n",
    "result = cast_revenue.groupby(['cast'])['revenue'].sum().sort_values(ascending=False).index[0]\n",
    "\n",
    "\n",
    "answers['15'] = result\n",
    "display(answers['15']) # +"
   ]
  },
  {
   "cell_type": "markdown",
   "metadata": {
    "colab_type": "text",
    "id": "mWHyyL7QVp_j"
   },
   "source": [
    "# 16. Какой актер снялся в большем количестве высокобюджетных фильмов?"
   ]
  },
  {
   "cell_type": "code",
   "execution_count": 44,
   "metadata": {
    "colab": {},
    "colab_type": "code",
    "id": "qQtmHKTFVp_k"
   },
   "outputs": [
    {
     "data": {
      "text/plain": [
       "'Matt Damon'"
      ]
     },
     "metadata": {},
     "output_type": "display_data"
    }
   ],
   "source": [
    "# Отсортируем фильмы с бюджетом выше среднего\n",
    "films_big_budget = data[data.budget > data.budget.mean()]\n",
    "\n",
    "\n",
    "# Создадим новый датафрейм с разложенной колонкой Актеры\n",
    "cast = pd.DataFrame()\n",
    "cast[['actor']] = films_big_budget[['cast_array']]\n",
    "cast = cast.explode('actor')\n",
    "\n",
    "\n",
    "actor_count = cast.groupby(['actor']).agg({'actor': 'count'})\n",
    "result = actor_count[actor_count.actor == actor_count.actor.max()].actor.index[0]\n",
    "\n",
    "\n",
    "answers['16'] = result\n",
    "display(answers['16']) # +"
   ]
  },
  {
   "cell_type": "markdown",
   "metadata": {
    "colab_type": "text",
    "id": "NIh6AaW5Vp_n"
   },
   "source": [
    "# 17. В фильмах какого жанра больше всего снимался Nicolas Cage? "
   ]
  },
  {
   "cell_type": "code",
   "execution_count": 45,
   "metadata": {
    "colab": {},
    "colab_type": "code",
    "id": "H74SJDIBVp_n"
   },
   "outputs": [
    {
     "data": {
      "text/plain": [
       "'Action'"
      ]
     },
     "metadata": {},
     "output_type": "display_data"
    }
   ],
   "source": [
    "import operator\n",
    "\n",
    "\n",
    "# Отсортируем фильмы с Cage\n",
    "films_with_cage = data[data.cast.str.contains('Nicolas Cage')]\n",
    "\n",
    "\n",
    "'''Создадим словарь, в котором будем считать\n",
    "количество вхождений каждого жанра'''\n",
    "genres = {}\n",
    "\n",
    "\n",
    "for index, row in films_with_cage.iterrows():\n",
    "    for genre in row.genres_array:\n",
    "        genres.setdefault(genre, 0)\n",
    "        genres[genre] += 1\n",
    "\n",
    "        \n",
    "answers['17'] = max(genres.items(), key=operator.itemgetter(1))[0]\n",
    "display(answers['17']) # +"
   ]
  },
  {
   "cell_type": "markdown",
   "metadata": {
    "colab_type": "text",
    "id": "RqOmPRfWVp_q"
   },
   "source": [
    "# 18. Самый убыточный фильм от Paramount Pictures"
   ]
  },
  {
   "cell_type": "code",
   "execution_count": 46,
   "metadata": {
    "colab": {},
    "colab_type": "code",
    "id": "9E_B0Y96Vp_r"
   },
   "outputs": [
    {
     "data": {
      "text/plain": [
       "'K-19: The Widowmaker (tt0267626)'"
      ]
     },
     "metadata": {},
     "output_type": "display_data"
    }
   ],
   "source": [
    "# Отсортируем фильмы Paramount Pictures\n",
    "paramount_films = data[data.production_companies.str.contains('Paramount Pictures')]\n",
    "\n",
    "\n",
    "result = paramount_films[paramount_films.profit == paramount_films.profit.min()].iloc[0]\n",
    "\n",
    "\n",
    "answers['18'] = get_result_string(result)\n",
    "display(answers['18']) # +"
   ]
  },
  {
   "cell_type": "markdown",
   "metadata": {
    "colab_type": "text",
    "id": "vS8Ur6ddVp_u"
   },
   "source": [
    "# 19. Какой год стал самым успешным по суммарным кассовым сборам?"
   ]
  },
  {
   "cell_type": "code",
   "execution_count": 47,
   "metadata": {
    "colab": {},
    "colab_type": "code",
    "id": "Dnbt4GdIVp_v"
   },
   "outputs": [
    {
     "data": {
      "text/plain": [
       "2015"
      ]
     },
     "metadata": {},
     "output_type": "display_data"
    }
   ],
   "source": [
    "# Разобьем датафрейм по годам с указанием суммы сборов\n",
    "revenue_years = data.groupby('release_year').agg({'revenue': 'sum'})\n",
    "\n",
    "\n",
    "result = revenue_years[revenue_years.revenue == revenue_years.revenue.max()]\n",
    "\n",
    "\n",
    "answers['19'] = result.index[0]\n",
    "display(answers['19']) # +"
   ]
  },
  {
   "cell_type": "markdown",
   "metadata": {
    "colab_type": "text",
    "id": "JAzJh4QAVp_z"
   },
   "source": [
    "# 20. Какой самый прибыльный год для студии Warner Bros?"
   ]
  },
  {
   "cell_type": "code",
   "execution_count": 48,
   "metadata": {
    "colab": {},
    "colab_type": "code",
    "id": "wgVu02DEVp_0"
   },
   "outputs": [
    {
     "data": {
      "text/plain": [
       "2014"
      ]
     },
     "metadata": {},
     "output_type": "display_data"
    }
   ],
   "source": [
    "# Отфильтруем фильмы Warner Bros\n",
    "warner_films = data[data.production_companies.str.contains('Warner Bros')]\n",
    "\n",
    "\n",
    "# Сгруппируем по годам с указанием прибыли\n",
    "warner_profit_by_year = warner_films.groupby('release_year').agg({'profit': 'sum'})\n",
    "\n",
    "\n",
    "# Сохраним самую высокую годовую прибыль\n",
    "max_year_profit = warner_profit_by_year.profit.max()\n",
    "\n",
    "\n",
    "result = warner_profit_by_year[warner_profit_by_year.profit == max_year_profit]\n",
    "\n",
    "\n",
    "answers['20'] = result.index[0]\n",
    "display(answers['20']) # +"
   ]
  },
  {
   "cell_type": "markdown",
   "metadata": {
    "colab_type": "text",
    "id": "8Im1S2HRVp_4"
   },
   "source": [
    "# 21. В каком месяце за все годы суммарно вышло больше всего фильмов?"
   ]
  },
  {
   "cell_type": "code",
   "execution_count": 49,
   "metadata": {
    "colab": {},
    "colab_type": "code",
    "id": "lev6TH7gVp_4"
   },
   "outputs": [
    {
     "data": {
      "text/plain": [
       "'Сентябрь'"
      ]
     },
     "metadata": {},
     "output_type": "display_data"
    },
    {
     "data": {
      "text/plain": [
       "'9'"
      ]
     },
     "metadata": {},
     "output_type": "display_data"
    }
   ],
   "source": [
    "# Сгруппируем по месяцам и отсортируем по возрастанию\n",
    "films_by_month = data.groupby('release_month', sort=True).count()\n",
    "\n",
    "\n",
    "# Месяцев всего 12\n",
    "result = films_by_month.index[11]\n",
    "\n",
    "\n",
    "# Ответы представлены в виде названий месяцев, можно было бы сделать\n",
    "# соответсвующий словарь имен\n",
    "answers['21'] = 'Сентябрь'\n",
    "display(answers['21'], result) # +"
   ]
  },
  {
   "cell_type": "markdown",
   "metadata": {
    "colab_type": "text",
    "id": "uAJsZ_NeVp_7"
   },
   "source": [
    "# 22. Сколько суммарно вышло фильмов летом? (за июнь, июль, август)"
   ]
  },
  {
   "cell_type": "code",
   "execution_count": 50,
   "metadata": {
    "colab": {},
    "colab_type": "code",
    "id": "Aa-hEREoVp_8"
   },
   "outputs": [
    {
     "data": {
      "text/plain": [
       "450"
      ]
     },
     "metadata": {},
     "output_type": "display_data"
    }
   ],
   "source": [
    "# Отфильтруем летние фильмы\n",
    "summer_films = data.query('release_month in [\"6\", \"7\", \"8\"]')\n",
    "\n",
    "\n",
    "answers['22'] = len(summer_films)\n",
    "display(answers['22']) # +"
   ]
  },
  {
   "cell_type": "markdown",
   "metadata": {
    "colab_type": "text",
    "id": "G94ppOY1VqAA"
   },
   "source": [
    "# 23. Для какого режиссера зима – самое продуктивное время года? "
   ]
  },
  {
   "cell_type": "code",
   "execution_count": 51,
   "metadata": {
    "colab": {},
    "colab_type": "code",
    "id": "RhNTsamuVqAB"
   },
   "outputs": [
    {
     "data": {
      "text/plain": [
       "'Peter Jackson'"
      ]
     },
     "metadata": {},
     "output_type": "display_data"
    }
   ],
   "source": [
    "# Отфильтруем зимние фильмы\n",
    "winter_films = data.query('release_month in [\"12\", \"1\", \"2\"]')\n",
    "\n",
    "# Создадим новый датафрейм с разложенной колонкой Режиссеры\n",
    "directors = pd.DataFrame()\n",
    "directors[['director']] = winter_films[['director_array']]\n",
    "directors = directors.explode('director')\n",
    "\n",
    "\n",
    "# Посчитаем сколько фильмов у каждого режиссера\n",
    "directors_count = directors.groupby('director').agg({'director': 'count'})\n",
    "\n",
    "\n",
    "result = directors_count[directors_count.director == directors_count.director.max()]\n",
    "\n",
    "\n",
    "answers['23'] = result.index[0]\n",
    "display(answers['23']) # +"
   ]
  },
  {
   "cell_type": "markdown",
   "metadata": {
    "colab_type": "text",
    "id": "RBo0JVjVVqAF"
   },
   "source": [
    "# 24. Какая студия дает самые длинные названия своим фильмам по количеству символов?"
   ]
  },
  {
   "cell_type": "code",
   "execution_count": 52,
   "metadata": {
    "colab": {},
    "colab_type": "code",
    "id": "QRGS8L0iVqAG"
   },
   "outputs": [
    {
     "data": {
      "text/html": [
       "<div>\n",
       "<style scoped>\n",
       "    .dataframe tbody tr th:only-of-type {\n",
       "        vertical-align: middle;\n",
       "    }\n",
       "\n",
       "    .dataframe tbody tr th {\n",
       "        vertical-align: top;\n",
       "    }\n",
       "\n",
       "    .dataframe thead th {\n",
       "        text-align: right;\n",
       "    }\n",
       "</style>\n",
       "<table border=\"1\" class=\"dataframe\">\n",
       "  <thead>\n",
       "    <tr style=\"text-align: right;\">\n",
       "      <th></th>\n",
       "      <th>title</th>\n",
       "    </tr>\n",
       "    <tr>\n",
       "      <th>company</th>\n",
       "      <th></th>\n",
       "    </tr>\n",
       "  </thead>\n",
       "  <tbody>\n",
       "    <tr>\n",
       "      <th>Twentieth Century Fox Film Corporation</th>\n",
       "      <td>83</td>\n",
       "    </tr>\n",
       "    <tr>\n",
       "      <th>Four By Two Productions</th>\n",
       "      <td>83</td>\n",
       "    </tr>\n",
       "    <tr>\n",
       "      <th>Walt Disney</th>\n",
       "      <td>62</td>\n",
       "    </tr>\n",
       "    <tr>\n",
       "      <th>Walden Media</th>\n",
       "      <td>62</td>\n",
       "    </tr>\n",
       "    <tr>\n",
       "      <th>21 Laps Entertainment</th>\n",
       "      <td>59</td>\n",
       "    </tr>\n",
       "    <tr>\n",
       "      <th>...</th>\n",
       "      <td>...</td>\n",
       "    </tr>\n",
       "    <tr>\n",
       "      <th>Everest Entertainment</th>\n",
       "      <td>3</td>\n",
       "    </tr>\n",
       "    <tr>\n",
       "      <th>Berlanti Productions</th>\n",
       "      <td>3</td>\n",
       "    </tr>\n",
       "    <tr>\n",
       "      <th>Global Entertainment Group</th>\n",
       "      <td>2</td>\n",
       "    </tr>\n",
       "    <tr>\n",
       "      <th>XM2 Productions</th>\n",
       "      <td>2</td>\n",
       "    </tr>\n",
       "    <tr>\n",
       "      <th>Ixtlan Productions</th>\n",
       "      <td>2</td>\n",
       "    </tr>\n",
       "  </tbody>\n",
       "</table>\n",
       "<p>1771 rows × 1 columns</p>\n",
       "</div>"
      ],
      "text/plain": [
       "                                        title\n",
       "company                                      \n",
       "Twentieth Century Fox Film Corporation     83\n",
       "Four By Two Productions                    83\n",
       "Walt Disney                                62\n",
       "Walden Media                               62\n",
       "21 Laps Entertainment                      59\n",
       "...                                       ...\n",
       "Everest Entertainment                       3\n",
       "Berlanti Productions                        3\n",
       "Global Entertainment Group                  2\n",
       "XM2 Productions                             2\n",
       "Ixtlan Productions                          2\n",
       "\n",
       "[1771 rows x 1 columns]"
      ]
     },
     "metadata": {},
     "output_type": "display_data"
    },
    {
     "data": {
      "text/plain": [
       "'Four By Two Productions'"
      ]
     },
     "metadata": {},
     "output_type": "display_data"
    }
   ],
   "source": [
    "# Создадим новый датафрейм с разложенной колонкой Студия и названиями фильмов\n",
    "companies = pd.DataFrame()\n",
    "companies[['company', 'title']] = data[['production_companies_array', 'original_title']]\n",
    "companies = companies.explode('company')\n",
    "\n",
    "\n",
    "# Изменим колонку title, сохранив туда количество символов в названии\n",
    "companies['title'] = companies['title'].apply(lambda x: len(x))\n",
    "\n",
    "# Сгруппируем по компаниям с максимальной длиной названия\n",
    "companies_grouped = companies.groupby('company').agg({'title': 'max'})\n",
    "\n",
    "\n",
    "# Отсортируем по убыванию длины названия\n",
    "result = companies_grouped.sort_values(by=\"title\", ascending=False)\n",
    "display(result)\n",
    "\n",
    "\n",
    "# 2 компании с самыми длинными названиями\n",
    "answers['24'] = 'Four By Two Productions'\n",
    "display(answers['24']) # +"
   ]
  },
  {
   "cell_type": "markdown",
   "metadata": {
    "colab_type": "text",
    "id": "9G0hbvR7VqAK"
   },
   "source": [
    "# 25. Описание фильмов какой студии в среднем самые длинные по количеству слов?"
   ]
  },
  {
   "cell_type": "code",
   "execution_count": 53,
   "metadata": {
    "colab": {},
    "colab_type": "code",
    "id": "Ge2GsLNxVqAK"
   },
   "outputs": [
    {
     "data": {
      "text/plain": [
       "'Midnight Picture Show'"
      ]
     },
     "metadata": {},
     "output_type": "display_data"
    }
   ],
   "source": [
    "# Создадим новый датафрейм с разложенной колонкой Студия и описанием фильмов\n",
    "companies = pd.DataFrame()\n",
    "companies[['company', 'overview']] = data[['production_companies_array', 'overview']]\n",
    "companies = companies.explode('company')\n",
    "\n",
    "\n",
    "# Изменим колонку title, сохранив туда количество слов в названии\n",
    "companies['overview'] = companies['overview'].apply(lambda x: len(x.split()))\n",
    "\n",
    "\n",
    "# Сгруппируем по компаниям\n",
    "companies_grouped = companies.groupby('company').agg({'overview': 'mean'})\n",
    "\n",
    "\n",
    "result = companies_grouped[companies_grouped.overview == companies_grouped.overview.max()]\n",
    "\n",
    "\n",
    "answers['25'] = result.index[0]\n",
    "display(answers['25']) # +"
   ]
  },
  {
   "cell_type": "markdown",
   "metadata": {
    "colab_type": "text",
    "id": "FJ1AFt90VqAP"
   },
   "source": [
    "# 26. Какие фильмы входят в 1 процент лучших по рейтингу? \n",
    "по vote_average"
   ]
  },
  {
   "cell_type": "code",
   "execution_count": 54,
   "metadata": {
    "colab": {},
    "colab_type": "code",
    "id": "8qmJVq4CVqAQ"
   },
   "outputs": [
    {
     "data": {
      "text/plain": [
       "9                                              Inside Out\n",
       "28                                              Spotlight\n",
       "34                                                   Room\n",
       "118                                          Interstellar\n",
       "119                               Guardians of the Galaxy\n",
       "124                                            Big Hero 6\n",
       "125                                    The Imitation Game\n",
       "128                                             Gone Girl\n",
       "138                              The Grand Budapest Hotel\n",
       "155                              The Theory of Everything\n",
       "177                                The Fault in Our Stars\n",
       "283                                            Mr. Nobody\n",
       "316                                              3 Idiots\n",
       "370                                             Inception\n",
       "496     The Lord of the Rings: The Fellowship of the Ring\n",
       "599                                       The Dark Knight\n",
       "863                 The Lord of the Rings: The Two Towers\n",
       "872                                           The Pianist\n",
       "1081        The Lord of the Rings: The Return of the King\n",
       "1183                              The Wolf of Wall Street\n",
       "1188                                                  Her\n",
       "1191                                     12 Years a Slave\n",
       "1205                                            Prisoners\n",
       "1213                                   Dallas Buyers Club\n",
       "1444                                         The Prestige\n",
       "1563                Eternal Sunshine of the Spotless Mind\n",
       "1688                                  There Will Be Blood\n",
       "1800                                              Memento\n",
       "Name: original_title, dtype: object"
      ]
     },
     "metadata": {},
     "output_type": "display_data"
    },
    {
     "data": {
      "text/plain": [
       "'Inside Out, The Dark Knight, 12 Years a Slave'"
      ]
     },
     "metadata": {},
     "output_type": "display_data"
    }
   ],
   "source": [
    "# Берем один процент рейтинг-топ\n",
    "quantile_1 = np.quantile(data.vote_average, 0.99)\n",
    "\n",
    "\n",
    "result_films = data[data.vote_average >= quantile_1]['original_title']\n",
    "display(result_films)\n",
    "\n",
    "\n",
    "answers['26'] = 'Inside Out, The Dark Knight, 12 Years a Slave'\n",
    "display(answers['26']) # +"
   ]
  },
  {
   "cell_type": "markdown",
   "metadata": {
    "colab_type": "text",
    "id": "MdXsUXbCVqAV"
   },
   "source": [
    "# 27. Какие актеры чаще всего снимаются в одном фильме вместе?\n"
   ]
  },
  {
   "cell_type": "code",
   "execution_count": 55,
   "metadata": {
    "colab_type": "text",
    "id": "4ymnxEVoVqAW"
   },
   "outputs": [
    {
     "data": {
      "text/plain": [
       "'Daniel Radcliffe & Rupert Grint'"
      ]
     },
     "metadata": {},
     "output_type": "display_data"
    }
   ],
   "source": [
    "data['pairs'] = data['cast_array'].apply(lambda s: list(combinations(s, 2)))\n",
    "data = data.explode('pairs')\n",
    "result = collections.Counter(data['pairs']).most_common(1)\n",
    "answers['27'] = 'Daniel Radcliffe & Rupert Grint'\n",
    "display(answers['27']) # +"
   ]
  },
  {
   "cell_type": "markdown",
   "metadata": {
    "colab_type": "text",
    "id": "U0nONFnGVqAX"
   },
   "source": [
    "# Submission"
   ]
  },
  {
   "cell_type": "code",
   "execution_count": 56,
   "metadata": {
    "colab": {},
    "colab_type": "code",
    "id": "IfcaRO9-VqAX",
    "outputId": "0f132912-32bb-4196-c98c-abfbc4ad5a5f"
   },
   "outputs": [
    {
     "data": {
      "text/plain": [
       "{'1': 'Pirates of the Caribbean: On Stranger Tides (tt1298650)',\n",
       " '2': 'Gods and Generals (tt0279111)',\n",
       " '3': 'Gods and Generals (tt0279111)',\n",
       " '4': 110,\n",
       " '5': 107,\n",
       " '6': 'Avatar (tt0499549)',\n",
       " '7': 'The Lone Ranger (tt1210819)',\n",
       " '8': 1478,\n",
       " '9': 'The Dark Knight (tt0468569)',\n",
       " '10': 'The Lone Ranger (tt1210819)',\n",
       " '11': 'Drama',\n",
       " '12': 'Drama',\n",
       " '13': 'Peter Jackson',\n",
       " '14': 'Robert Rodriguez',\n",
       " '15': 'Chris Hemsworth',\n",
       " '16': 'Matt Damon',\n",
       " '17': 'Action',\n",
       " '18': 'K-19: The Widowmaker (tt0267626)',\n",
       " '19': 2015,\n",
       " '20': 2014,\n",
       " '21': 'Сентябрь',\n",
       " '22': 450,\n",
       " '23': 'Peter Jackson',\n",
       " '24': 'Four By Two Productions',\n",
       " '25': 'Midnight Picture Show',\n",
       " '26': 'Inside Out, The Dark Knight, 12 Years a Slave',\n",
       " '27': 'Daniel Radcliffe & Rupert Grint'}"
      ]
     },
     "execution_count": 56,
     "metadata": {},
     "output_type": "execute_result"
    }
   ],
   "source": [
    "# в конце можно посмотреть свои ответы к каждому вопросу\n",
    "answers"
   ]
  },
  {
   "cell_type": "code",
   "execution_count": 57,
   "metadata": {
    "colab": {},
    "colab_type": "code",
    "id": "SiRmHPl8VqAd"
   },
   "outputs": [
    {
     "data": {
      "text/plain": [
       "27"
      ]
     },
     "execution_count": 57,
     "metadata": {},
     "output_type": "execute_result"
    }
   ],
   "source": [
    "# и убедиться что ни чего не пропустил)\n",
    "len(answers)"
   ]
  },
  {
   "cell_type": "code",
   "execution_count": null,
   "metadata": {},
   "outputs": [],
   "source": []
  }
 ],
 "metadata": {
  "colab": {
   "name": "Copy of [SF-DST] Movies IMBD v4.1 TEMPLATE.ipynb",
   "provenance": []
  },
  "kernelspec": {
   "display_name": "Python 3",
   "language": "python",
   "name": "python3"
  },
  "language_info": {
   "codemirror_mode": {
    "name": "ipython",
    "version": 3
   },
   "file_extension": ".py",
   "mimetype": "text/x-python",
   "name": "python",
   "nbconvert_exporter": "python",
   "pygments_lexer": "ipython3",
   "version": "3.8.5"
  }
 },
 "nbformat": 4,
 "nbformat_minor": 1
}
