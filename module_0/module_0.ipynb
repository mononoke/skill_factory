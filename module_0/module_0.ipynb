{
 "cells": [
  {
   "cell_type": "code",
   "execution_count": 58,
   "metadata": {
    "collapsed": true
   },
   "outputs": [
    {
     "name": "stdout",
     "output_type": "stream",
     "text": [
      "Ваш алгоритм угадывает число в среднем за 6 (5.847) попыток\n"
     ]
    }
   ],
   "source": [
    "import numpy as np\n",
    "\n",
    "\n",
    "def think_number(span):\n",
    "    # загадываем число в пределах {span}\n",
    "    return np.random.randint(span[0], span[1])\n",
    "\n",
    "\n",
    "def guess_number(span):\n",
    "    \"\"\"Функция принимает диапозон чисел и возвращает число шагов, за которое\n",
    "    удалось его угадать.\n",
    "\n",
    "    Используем бинарный поиск: сначала берем число посередине\n",
    "    загаданного диапозона, затем, отталкиваясь от того,\n",
    "    больше или меньше загаданное число, на каждом шаге сокращаем диапозон\n",
    "    поиска в 2 раза. На последних шагах сокращаем диапозон на единицу\"\"\"\n",
    "\n",
    "    number = think_number(span)  # загаданное число\n",
    "    step = 1  # количество шагов\n",
    "    predict = (span[1] - 1) // 2  # средне-арифметическое в загаданном диапозоне {span}\n",
    "\n",
    "    while number != predict:\n",
    "        step += 1\n",
    "\n",
    "        # на сколько нужно уменьшить/увеличить искомое число\n",
    "        increment = round(100 / (2 ** step))\n",
    "        if increment == 0:\n",
    "            increment = 1\n",
    "\n",
    "        if number > predict:\n",
    "            predict = predict + increment\n",
    "        else:\n",
    "            predict = predict - increment\n",
    "\n",
    "    return step\n",
    "\n",
    "\n",
    "def benchmark(span):\n",
    "    repetitions = 1000\n",
    "    # Запускаем игру {repetitions} раз, чтобы узнать среднее количество шагов, за которое угадывается число\n",
    "\n",
    "    steps = list()\n",
    "\n",
    "    for i in range(repetitions + 1):\n",
    "        steps.append(guess_number(span))\n",
    "\n",
    "    average = sum(steps) / repetitions\n",
    "    return average\n",
    "\n",
    "\n",
    "average_steps_number = benchmark((1, 101))\n",
    "round_steps_number = round(average_steps_number)\n",
    "print(f\"Ваш алгоритм угадывает число в среднем за {round_steps_number} ({average_steps_number}) попыток\")"
   ]
  }
 ],
 "metadata": {
  "kernelspec": {
   "display_name": "Python 3",
   "language": "python",
   "name": "python3"
  },
  "language_info": {
   "codemirror_mode": {
    "name": "ipython",
    "version": 2
   },
   "file_extension": ".py",
   "mimetype": "text/x-python",
   "name": "python",
   "nbconvert_exporter": "python",
   "pygments_lexer": "ipython2",
   "version": "2.7.6"
  }
 },
 "nbformat": 4,
 "nbformat_minor": 0
}